{
 "cells": [
  {
   "cell_type": "code",
   "execution_count": 8,
   "metadata": {
    "collapsed": false
   },
   "outputs": [],
   "source": [
    "import pandas as pd\n",
    "import numpy as np\n",
    "import seaborn as sns\n",
    "import matplotlib.pyplot as plt\n"
   ]
  },
  {
   "cell_type": "code",
   "execution_count": 2,
   "metadata": {
    "collapsed": false
   },
   "outputs": [],
   "source": [
    "path = 'C:/Users/Noah/Desktop/DDW/open_data/crime/NCVS_bjs.gov/NCVS_PERSONAL_1993-2014/'\n",
    "with open('%sNCVS_PERSONAL_VICTIMIZATION_1993-2014.csv' % path) as f:\n",
    "    df = pd.read_csv(f)"
   ]
  },
  {
   "cell_type": "code",
   "execution_count": 3,
   "metadata": {
    "collapsed": true
   },
   "outputs": [],
   "source": [
    "def fix88(x):\n",
    "    if x == 88:\n",
    "        return np.nan\n",
    "    else:\n",
    "        return x"
   ]
  },
  {
   "cell_type": "code",
   "execution_count": 4,
   "metadata": {
    "collapsed": false
   },
   "outputs": [],
   "source": [
    "for col in df.columns:\n",
    "    df[col] = df[col].apply(lambda x: fix88(x))"
   ]
  },
  {
   "cell_type": "code",
   "execution_count": 5,
   "metadata": {
    "collapsed": false,
    "scrolled": true
   },
   "outputs": [
    {
     "data": {
      "text/plain": [
       "Index([u'year', u'weight', u'gender', u'race1R', u'hispanic', u'ethnic1R',\n",
       "       u'age', u'marital2', u'hincome', u'popsize', u'region', u'msa',\n",
       "       u'direl', u'notify', u'weapon', u'weapcat', u'newcrime', u'newoff',\n",
       "       u'seriousviolent', u'injury', u'treatment', u'vicservices',\n",
       "       u'locationr'],\n",
       "      dtype='object')"
      ]
     },
     "execution_count": 5,
     "metadata": {},
     "output_type": "execute_result"
    }
   ],
   "source": [
    "df.columns"
   ]
  },
  {
   "cell_type": "code",
   "execution_count": 9,
   "metadata": {
    "collapsed": false
   },
   "outputs": [],
   "source": [
    "glabels = ['Male', 'Female']\n",
    "svlabels = ['Yes', 'No', 'unknown']\n",
    "g = sns.countplot(x='seriousviolent', hue='gender', data=df, edgecolor='black')\n",
    "g.set(xticklabels=svlabels)\n",
    "g.legend(['Men', 'Women'])\n",
    "plt.show(g)\n"
   ]
  },
  {
   "cell_type": "code",
   "execution_count": null,
   "metadata": {
    "collapsed": false
   },
   "outputs": [],
   "source": [
    "df.ethnic1R.value_counts()"
   ]
  },
  {
   "cell_type": "code",
   "execution_count": 10,
   "metadata": {
    "collapsed": false
   },
   "outputs": [],
   "source": [
    "cx = pd.crosstab(df.ethnic1R, columns=df.seriousviolent, aggfunc='count')\n",
    "cx.loc[1] = cx.loc[1].apply(lambda x: x * 0.4)    \n",
    "cx.loc[2] = cx.loc[2].apply(lambda x: x * 2)\n",
    "cx.loc[3] = cx.loc[3].apply(lambda x: x * 2.8)\n",
    "cx.loc[4] = cx.loc[4].apply(lambda x: x * 1.6)"
   ]
  },
  {
   "cell_type": "code",
   "execution_count": 11,
   "metadata": {
    "collapsed": false
   },
   "outputs": [],
   "source": [
    "cx['extra'] = range(4)\n"
   ]
  },
  {
   "cell_type": "code",
   "execution_count": 12,
   "metadata": {
    "collapsed": false
   },
   "outputs": [],
   "source": [
    "cx = cx.set_index('extra', append=True)\n",
    "cx = cx.unstack('ethnic1R')"
   ]
  },
  {
   "cell_type": "code",
   "execution_count": 13,
   "metadata": {
    "collapsed": false
   },
   "outputs": [],
   "source": [
    "cx = pd.melt(cx)\n"
   ]
  },
  {
   "cell_type": "code",
   "execution_count": 14,
   "metadata": {
    "collapsed": false
   },
   "outputs": [],
   "source": [
    "cx = cx[cx.value > 0]\n"
   ]
  },
  {
   "cell_type": "code",
   "execution_count": 16,
   "metadata": {
    "collapsed": false
   },
   "outputs": [],
   "source": [
    "svlabels = ['Yes', 'No', 'unknown']\n",
    "ethlabels = ['White', 'Black', 'Other', 'Hispanic']\n",
    "g = sns.barplot(x='seriousviolent', y='value', hue='ethnic1R', data=cx, edgecolor='black')\n",
    "g.set(xticklabels=svlabels)\n",
    "handles, labels = g.get_legend_handles_labels()\n",
    "g.legend(handles=handles,labels=ethlabels)\n",
    "plt.show()"
   ]
  },
  {
   "cell_type": "code",
   "execution_count": null,
   "metadata": {
    "collapsed": false
   },
   "outputs": [],
   "source": [
    "svlabels = ['Yes', 'No', 'unknown']\n",
    "ethlabels = ['White', 'Black', 'Other', 'Hispanic']\n",
    "g = sns.barplot(x='seriousviolent', y='value', hue='ethnic1R', data=cx, edgecolor='black')\n",
    "g.set(xticklabels=svlabels)\n",
    "handles, labels = g.get_legend_handles_labels()\n",
    "g.legend(handles=handles,labels=ethlabels)"
   ]
  },
  {
   "cell_type": "code",
   "execution_count": null,
   "metadata": {
    "collapsed": true
   },
   "outputs": [],
   "source": []
  },
  {
   "cell_type": "code",
   "execution_count": 17,
   "metadata": {
    "collapsed": true
   },
   "outputs": [],
   "source": [
    "cx = pd.crosstab(df.ethnic1R, columns=df.weapcat, aggfunc='count')\n",
    "cx.loc[1] = cx.loc[1].apply(lambda x: x * 0.4)    \n",
    "cx.loc[2] = cx.loc[2].apply(lambda x: x * 2)\n",
    "cx.loc[3] = cx.loc[3].apply(lambda x: x * 2.8)\n",
    "cx.loc[4] = cx.loc[4].apply(lambda x: x * 1.6)\n",
    "\n",
    "cx['extra'] = range(4)\n",
    "\n",
    "cx = cx.set_index('extra', append=True)\n",
    "cx = cx.unstack('ethnic1R')\n",
    "cx = pd.melt(cx)\n",
    "cx = cx[cx.value > 0]"
   ]
  },
  {
   "cell_type": "code",
   "execution_count": null,
   "metadata": {
    "collapsed": false
   },
   "outputs": [],
   "source": []
  },
  {
   "cell_type": "code",
   "execution_count": null,
   "metadata": {
    "collapsed": true
   },
   "outputs": [],
   "source": []
  },
  {
   "cell_type": "code",
   "execution_count": 19,
   "metadata": {
    "collapsed": false
   },
   "outputs": [],
   "source": [
    "weaplabels = ['No Weapon', 'FireArm', 'Knife', 'Other Type of Weapon',\n",
    "              'Type Unknown', 'Unknown']\n",
    "ethlabels = ['White', 'Black', 'Other', 'Hispanic']\n",
    "g = sns.barplot(x='weapcat', y='value', hue='ethnic1R', data=cx, edgecolor='black')\n",
    "g.set(xticklabels=weaplabels)\n",
    "handles, labels = g.get_legend_handles_labels()\n",
    "g.legend(handles=handles,labels=ethlabels)\n",
    "plt.show()"
   ]
  },
  {
   "cell_type": "code",
   "execution_count": null,
   "metadata": {
    "collapsed": false
   },
   "outputs": [],
   "source": []
  },
  {
   "cell_type": "code",
   "execution_count": null,
   "metadata": {
    "collapsed": false
   },
   "outputs": [],
   "source": []
  },
  {
   "cell_type": "code",
   "execution_count": null,
   "metadata": {
    "collapsed": false
   },
   "outputs": [],
   "source": []
  },
  {
   "cell_type": "code",
   "execution_count": null,
   "metadata": {
    "collapsed": false
   },
   "outputs": [],
   "source": []
  },
  {
   "cell_type": "code",
   "execution_count": null,
   "metadata": {
    "collapsed": true
   },
   "outputs": [],
   "source": []
  },
  {
   "cell_type": "code",
   "execution_count": null,
   "metadata": {
    "collapsed": true
   },
   "outputs": [],
   "source": []
  }
 ],
 "metadata": {
  "kernelspec": {
   "display_name": "Python 2",
   "language": "python",
   "name": "python2"
  },
  "language_info": {
   "codemirror_mode": {
    "name": "ipython",
    "version": 2
   },
   "file_extension": ".py",
   "mimetype": "text/x-python",
   "name": "python",
   "nbconvert_exporter": "python",
   "pygments_lexer": "ipython2",
   "version": "2.7.11"
  }
 },
 "nbformat": 4,
 "nbformat_minor": 0
}
