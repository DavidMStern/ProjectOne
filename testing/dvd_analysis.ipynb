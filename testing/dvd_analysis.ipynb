{
 "cells": [
  {
   "cell_type": "code",
   "execution_count": 1,
   "metadata": {},
   "outputs": [],
   "source": [
    "#%matplotlib notebook"
   ]
  },
  {
   "cell_type": "code",
   "execution_count": 2,
   "metadata": {},
   "outputs": [],
   "source": [
    "import pandas as pd\n",
    "pd.set_option('display.max_columns', 50)\n",
    "import matplotlib\n",
    "matplotlib.use('TkAgg')\n",
    "import matplotlib.pyplot as plt\n",
    "import scipy.stats as st\n",
    "import numpy as np"
   ]
  },
  {
   "cell_type": "code",
   "execution_count": 3,
   "metadata": {},
   "outputs": [
    {
     "data": {
      "text/plain": [
       "Year                                         int64\n",
       "Weight                                     float64\n",
       "Sex                                         object\n",
       "Race                                        object\n",
       "Hispanic origin                             object\n",
       "Race/Hispanic origin                        object\n",
       "Age                                         object\n",
       "Marital status                              object\n",
       "Household income                            object\n",
       "Population size                             object\n",
       "Region                                      object\n",
       "Location of residence                       object\n",
       "Victim-offender relationship                object\n",
       "Reporting to the police                     object\n",
       "Presence of Weapon                          object\n",
       "Presence of weapon                          object\n",
       "Aggregate type of crime                     object\n",
       "Type of crime                               object\n",
       "Violent crime excluding simple assault      object\n",
       "Injury                                      object\n",
       "Medical treatment for physical injuries     object\n",
       "Victim services                             object\n",
       "Location of incident                        object\n",
       "dtype: object"
      ]
     },
     "execution_count": 3,
     "metadata": {},
     "output_type": "execute_result"
    }
   ],
   "source": [
    "df = pd.read_csv('../clean_data/clean_victimization_data.csv')\n",
    "df.head(1)\n",
    "df.dtypes"
   ]
  },
  {
   "cell_type": "code",
   "execution_count": 4,
   "metadata": {},
   "outputs": [
    {
     "data": {
      "text/html": [
       "<div>\n",
       "<style scoped>\n",
       "    .dataframe tbody tr th:only-of-type {\n",
       "        vertical-align: middle;\n",
       "    }\n",
       "\n",
       "    .dataframe tbody tr th {\n",
       "        vertical-align: top;\n",
       "    }\n",
       "\n",
       "    .dataframe thead th {\n",
       "        text-align: right;\n",
       "    }\n",
       "</style>\n",
       "<table border=\"1\" class=\"dataframe\">\n",
       "  <thead>\n",
       "    <tr style=\"text-align: right;\">\n",
       "      <th></th>\n",
       "      <th>Year</th>\n",
       "      <th>Weight</th>\n",
       "    </tr>\n",
       "  </thead>\n",
       "  <tbody>\n",
       "    <tr>\n",
       "      <th>Year</th>\n",
       "      <td>1.000000</td>\n",
       "      <td>-0.058092</td>\n",
       "    </tr>\n",
       "    <tr>\n",
       "      <th>Weight</th>\n",
       "      <td>-0.058092</td>\n",
       "      <td>1.000000</td>\n",
       "    </tr>\n",
       "  </tbody>\n",
       "</table>\n",
       "</div>"
      ],
      "text/plain": [
       "            Year    Weight\n",
       "Year    1.000000 -0.058092\n",
       "Weight -0.058092  1.000000"
      ]
     },
     "execution_count": 4,
     "metadata": {},
     "output_type": "execute_result"
    }
   ],
   "source": [
    "df.corr(method ='pearson')"
   ]
  },
  {
   "cell_type": "code",
   "execution_count": 5,
   "metadata": {},
   "outputs": [],
   "source": [
    "# let's make a pie chart over how many victims received Victim Services\n",
    "\n",
    "dv = {'No services received from victim service agencies': 'No', 'Services received from victim service agencies': 'Yes'}\n",
    "df = df.replace({'Victim services': dv})\n",
    "df.head()\n",
    "df.dtypes\n",
    "\n",
    "df = df.rename(columns={\"Year\": \"\"})\n",
    "\n",
    "df_g = df.groupby(df['Victim services']).count()\n",
    "\n",
    "df_g.head()\n",
    "\n",
    "plot = df_g.plot.pie(y='', labels=df_g.index, legend=False, autopct='%1.1f%%')\n",
    "plt.title(\"Percent using victim services\")\n",
    "plt.axis(\"equal\")\n",
    "plt.savefig('victim_services')\n",
    "plt.show()"
   ]
  },
  {
   "cell_type": "code",
   "execution_count": 6,
   "metadata": {},
   "outputs": [],
   "source": [
    "# subplots\n",
    "#%matplotlib inline\n",
    "\n",
    "sv = df['Victim services'].value_counts()\n",
    "si = df['Injury'].value_counts()\n",
    "st = df['Type of crime'].value_counts()\n",
    "sx = df['Sex'].value_counts()\n",
    "sr = df['Race'].value_counts()\n",
    "sa = df['Age'].value_counts()\n",
    "\n",
    "# create a figure with two subplots\n",
    "fig, ((ax1, ax2), (ax3, ax4), (ax5, ax6)) = plt.subplots(3, 2)\n",
    "\n",
    "# plot each pie chart in a separate subplot\n",
    "plt.figure(0)\n",
    "ax1.set_title('Received Victim Services')\n",
    "ax1.pie(sv, labels=['No', 'Yes'], autopct='%1.1f%%')\n",
    "ax1.axis('equal')\n",
    "\n",
    "plt.figure(1)\n",
    "ax2.set_title('Injured?')\n",
    "ax2.pie(si, labels=['No', 'Yes'], autopct='%1.1f%%')\n",
    "ax2.axis('equal')\n",
    "\n",
    "plt.figure(2)\n",
    "ax3.pie(st, labels=st.index, autopct='%1.1f%%')\n",
    "ax3.axis('equal')\n",
    "\n",
    "plt.figure(3)\n",
    "ax4.pie(sx, labels=sx.index, autopct='%1.1f%%')\n",
    "ax4.axis('equal')\n",
    "\n",
    "plt.figure(4)\n",
    "ax5.pie(sr, labels=sr.index, autopct='%1.1f%%')\n",
    "ax5.axis('equal')\n",
    "\n",
    "plt.figure(5)\n",
    "ax6.pie(sa, labels=sa.index)\n",
    "ax6.axis('equal')\n",
    "\n",
    "plt.savefig(\"pie_charts.jpg\")\n",
    "plt.show()\n",
    "\n",
    "\n"
   ]
  },
  {
   "cell_type": "code",
   "execution_count": null,
   "metadata": {},
   "outputs": [],
   "source": []
  },
  {
   "cell_type": "code",
   "execution_count": null,
   "metadata": {},
   "outputs": [],
   "source": []
  },
  {
   "cell_type": "code",
   "execution_count": null,
   "metadata": {},
   "outputs": [],
   "source": []
  }
 ],
 "metadata": {
  "kernelspec": {
   "display_name": "Python 3",
   "language": "python",
   "name": "python3"
  },
  "language_info": {
   "codemirror_mode": {
    "name": "ipython",
    "version": 3
   },
   "file_extension": ".py",
   "mimetype": "text/x-python",
   "name": "python",
   "nbconvert_exporter": "python",
   "pygments_lexer": "ipython3",
   "version": "3.6.9"
  }
 },
 "nbformat": 4,
 "nbformat_minor": 2
}
