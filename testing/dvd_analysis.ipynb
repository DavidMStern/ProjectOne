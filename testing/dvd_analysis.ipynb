{
 "cells": [
  {
   "cell_type": "code",
   "execution_count": 1,
   "metadata": {},
   "outputs": [],
   "source": [
    "#%matplotlib notebook"
   ]
  },
  {
   "cell_type": "code",
   "execution_count": 2,
   "metadata": {},
   "outputs": [],
   "source": [
    "import pandas as pd\n",
    "pd.set_option('display.max_columns', 50)\n",
    "import matplotlib.pyplot as plt\n",
    "import scipy.stats as st\n",
    "import numpy as np"
   ]
  },
  {
   "cell_type": "code",
   "execution_count": 3,
   "metadata": {},
   "outputs": [
    {
     "data": {
      "text/plain": [
       "Year                                         int64\n",
       "Weight                                     float64\n",
       "Sex                                         object\n",
       "Race                                        object\n",
       "Hispanic origin                             object\n",
       "Race/Hispanic origin                        object\n",
       "Age                                         object\n",
       "Marital status                              object\n",
       "Household income                            object\n",
       "Population size                             object\n",
       "Region                                      object\n",
       "Location of residence                       object\n",
       "Victim-offender relationship                object\n",
       "Reporting to the police                     object\n",
       "Presence of Weapon                          object\n",
       "Presence of weapon                          object\n",
       "Aggregate type of crime                     object\n",
       "Type of crime                               object\n",
       "Violent crime excluding simple assault      object\n",
       "Injury                                      object\n",
       "Medical treatment for physical injuries     object\n",
       "Victim services                             object\n",
       "Location of incident                        object\n",
       "dtype: object"
      ]
     },
     "execution_count": 3,
     "metadata": {},
     "output_type": "execute_result"
    }
   ],
   "source": [
    "df = pd.read_csv('../clean_data/clean_victimization_data.csv')\n",
    "df.head(1)\n",
    "df.dtypes"
   ]
  },
  {
   "cell_type": "code",
   "execution_count": 4,
   "metadata": {},
   "outputs": [
    {
     "data": {
      "image/png": "[encoded data removed]",
      "text/plain": [
       "<Figure size 432x288 with 1 Axes>"
      ]
     },
     "metadata": {},
     "output_type": "display_data"
    }
   ],
   "source": [
    "# let's make a pie chart over how many victims received Victim Services\n",
    "\n",
    "dv = {'No services received from victim service agencies': 'No', 'Services received from victim service agencies': 'Yes'}\n",
    "df = df.replace({'Victim services': dv})\n",
    "df.head()\n",
    "df.dtypes\n",
    "\n",
    "df = df.rename(columns={\"Year\": \"\"})\n",
    "\n",
    "df_g = df.groupby(df['Victim services']).count()\n",
    "\n",
    "df_g.head()\n",
    "\n",
    "plot = df_g.plot.pie(y='', labels=df_g.index, legend=False, autopct='%1.1f%%')\n",
    "plt.title(\"Percent using victim services\")\n",
    "plt.axis(\"equal\")\n",
    "plt.savefig('victim_services')"
   ]
  },
  {
   "cell_type": "code",
   "execution_count": null,
   "metadata": {},
   "outputs": [],
   "source": []
  },
  {
   "cell_type": "code",
   "execution_count": null,
   "metadata": {},
   "outputs": [],
   "source": []
  }
 ],
 "metadata": {
  "kernelspec": {
   "display_name": "Python 3",
   "language": "python",
   "name": "python3"
  },
  "language_info": {
   "codemirror_mode": {
    "name": "ipython",
    "version": 3
   },
   "file_extension": ".py",
   "mimetype": "text/x-python",
   "name": "python",
   "nbconvert_exporter": "python",
   "pygments_lexer": "ipython3",
   "version": "3.6.9"
  }
 },
 "nbformat": 4,
 "nbformat_minor": 2
}
